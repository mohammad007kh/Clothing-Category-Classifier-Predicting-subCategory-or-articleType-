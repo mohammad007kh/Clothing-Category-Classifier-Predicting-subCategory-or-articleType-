{
 "cells": [
  {
   "cell_type": "markdown",
   "metadata": {},
   "source": [
    "# Clothing Category Classifier\n",
    "(Predicting subCategory or articleType)\n"
   ]
  },
  {
   "cell_type": "markdown",
   "metadata": {},
   "source": [
    "### importing required libraries"
   ]
  },
  {
   "cell_type": "code",
   "execution_count": null,
   "metadata": {},
   "outputs": [],
   "source": [
    "import pandas as pd  \n",
    "import matplotlib.pyplot as plt\n",
    "import seaborn as sns\n",
    "from sklearn.linear_model import LogisticRegression\n",
    "from sklearn.preprocessing import StandardScaler, LabelEncoder\n",
    "from sklearn.pipeline import Pipeline\n",
    "from sklearn.metrics import accuracy_score, classification_report\n",
    "from sklearn.model_selection import train_test_split\n",
    "from datetime import datetime\n",
    "from datasets import load_dataset"
   ]
  },
  {
   "cell_type": "markdown",
   "metadata": {},
   "source": [
    "## Data loading"
   ]
  },
  {
   "cell_type": "markdown",
   "metadata": {},
   "source": [
    "### Load & Explore the Data"
   ]
  },
  {
   "cell_type": "code",
   "execution_count": null,
   "metadata": {},
   "outputs": [],
   "source": [
    "# Load the dataset from huggingface\n",
    "dataset = load_dataset(\"nreimers/fashion-dataset\")\n",
    "print(dataset)\n",
    "\n",
    "# Converting to pandas DataFrame\n",
    "df = dataset[\"train\"].to_pandas()"
   ]
  },
  {
   "cell_type": "code",
   "execution_count": null,
   "metadata": {},
   "outputs": [],
   "source": [
    "df.isnull().sum()"
   ]
  },
  {
   "cell_type": "markdown",
   "metadata": {},
   "source": [
    "## Data Preprocessing"
   ]
  },
  {
   "cell_type": "code",
   "execution_count": null,
   "metadata": {},
   "outputs": [],
   "source": [
    "# Define relevant clothing items\n",
    "relevant_clothing = [\n",
    "    \"Sweaters\", \"Jackets\", \"Mufflers\", \"Scarves\", \"Gloves\", \"Rain Jacket\", \n",
    "    \"Rain Trousers\", \"Boots\", \"Hats\", \"Trousers\", \"Tshirts\", \"Jeans\", \"Shirts\", \n",
    "    \"Track Pants\", \"Shorts\", \"Socks\", \"Dresses\", \"Skirts\"\n",
    "]\n",
    "\n",
    "# Filter dataset to keep only relevant clothing items\n",
    "df = df[df[\"articleType\"].isin(relevant_clothing)]\n",
    "\n",
    "# Handle missing season values by filling based on articleType\n",
    "season_mapping = {\n",
    "    \"Sweaters\": \"Winter\", \"Jackets\": \"Winter\", \"Mufflers\": \"Winter\", \"Scarves\": \"Winter\",\n",
    "    \"Gloves\": \"Winter\", \"Rain Jacket\": \"Fall\", \"Rain Trousers\": \"Fall\", \"Boots\": \"Winter\",\n",
    "    \"Hats\": \"Summer\", \"Trousers\": \"Fall\", \"Tshirts\": \"Summer\", \"Jeans\": \"Fall\",\n",
    "    \"Shirts\": \"Summer\", \"Track Pants\": \"Winter\", \"Shorts\": \"Summer\", \"Socks\": \"Winter\",\n",
    "    \"Dresses\": \"Spring\", \"Skirts\": \"Spring\"\n",
    "}\n",
    "df[\"season\"] = df[\"season\"].fillna(df[\"articleType\"].map(season_mapping))\n",
    "\n",
    "# Handle missing 'usage' values (if useful)\n",
    "df[\"usage\"] = df[\"usage\"].fillna(\"Unknown\")\n",
    "\n",
    "## Fill missing baseColour with 'Unknown'\n",
    "df['baseColour'].fillna('Unknown', inplace=True)\n",
    "\n",
    "## Fill missing year with the most common year\n",
    "df['year'].fillna(df['year'].mode()[0], inplace=True)\n",
    "\n",
    "# Save the cleaned dataset\n",
    "df.to_csv(\"filtered_fashion_dataset.csv\", index=False)"
   ]
  },
  {
   "cell_type": "code",
   "execution_count": null,
   "metadata": {},
   "outputs": [],
   "source": [
    "# Check for missing values to make sure we've handled them all\n",
    "print(\"Missing values in each column:\")\n",
    "print(df.isnull().sum())"
   ]
  },
  {
   "cell_type": "markdown",
   "metadata": {},
   "source": [
    "Visualizing to deepen the knowledge about the Data."
   ]
  },
  {
   "cell_type": "code",
   "execution_count": null,
   "metadata": {},
   "outputs": [],
   "source": [
    "# Distribution of Seasons\n",
    "plt.figure(figsize=(10, 6))\n",
    "sns.countplot(data=df, x='season')\n",
    "plt.title('Distribution of Seasons')\n",
    "plt.show()\n",
    "\n",
    "# Category Coverage\n",
    "plt.figure(figsize=(12, 8))\n",
    "sns.countplot(data=df, x='articleType')\n",
    "plt.title('Category Coverage')\n",
    "plt.xticks(rotation=90)\n",
    "plt.show()\n",
    "\n",
    "# Gender Representation\n",
    "plt.figure(figsize=(10, 6))\n",
    "sns.countplot(data=df, x='gender')\n",
    "plt.title('Gender Representation')\n",
    "plt.show()\n",
    "\n",
    "# Color Distribution\n",
    "plt.figure(figsize=(12, 8))\n",
    "sns.countplot(data=df, x='baseColour')\n",
    "plt.title('Color Distribution')\n",
    "plt.xticks(rotation=90)\n",
    "plt.show()\n",
    "\n",
    "# Usage Column Analysis\n",
    "print(\"Unique values in 'usage' column:\")\n",
    "print(df['usage'].value_counts())\n",
    "\n",
    "# Visualize Usage Column\n",
    "plt.figure(figsize=(10, 6))\n",
    "sns.countplot(data=df, x='usage')\n",
    "plt.title('Usage Column Distribution')\n",
    "plt.show()"
   ]
  },
  {
   "cell_type": "markdown",
   "metadata": {},
   "source": [
    "Let's make sure we've done it correctly"
   ]
  },
  {
   "cell_type": "code",
   "execution_count": null,
   "metadata": {},
   "outputs": [],
   "source": [
    "# Explore the dataset\n",
    "print(df.head())  # View first few rows\n",
    "print(df.info())  # Check column data types\n",
    "print(df.isnull().sum())  # Check for missing values\n",
    "print(df['subCategory'].value_counts())  # Check class distribution"
   ]
  },
  {
   "cell_type": "markdown",
   "metadata": {},
   "source": [
    "### Drop Irrelevant Columns"
   ]
  },
  {
   "cell_type": "code",
   "execution_count": null,
   "metadata": {},
   "outputs": [],
   "source": [
    "df = df.drop(columns=['id', 'productDisplayName'])"
   ]
  },
  {
   "cell_type": "markdown",
   "metadata": {},
   "source": [
    "### Encode Categorical Variables"
   ]
  },
  {
   "cell_type": "code",
   "execution_count": null,
   "metadata": {},
   "outputs": [],
   "source": [
    "df = pd.get_dummies(df, columns=['gender', 'masterCategory',], drop_first=True)\n",
    "\n",
    "# Label encode articleType, subCategory, season, usage, and baseColour\n",
    "le_article = LabelEncoder()\n",
    "df['articleType'] = le_article.fit_transform(df['articleType'])\n",
    "\n",
    "le_subCategory = LabelEncoder()\n",
    "df['subCategory'] = le_subCategory.fit_transform(df['subCategory'])\n",
    "\n",
    "le_season = LabelEncoder()\n",
    "df['season'] = le_season.fit_transform(df['season'])\n",
    "\n",
    "le_usage = LabelEncoder()\n",
    "df['usage'] = le_usage.fit_transform(df['usage'])\n",
    "\n",
    "le_baseColour = LabelEncoder()\n",
    "df['baseColour'] = le_baseColour.fit_transform(df['baseColour'])\n"
   ]
  },
  {
   "cell_type": "code",
   "execution_count": null,
   "metadata": {},
   "outputs": [],
   "source": [
    "# Check unique values assigned\n",
    "print(df[['articleType', 'subCategory', 'season', 'usage', 'baseColour']].head())"
   ]
  },
  {
   "cell_type": "markdown",
   "metadata": {},
   "source": [
    "Let's turn year to age for a better performance."
   ]
  },
  {
   "cell_type": "code",
   "execution_count": null,
   "metadata": {},
   "outputs": [],
   "source": [
    "# Get current year dynamically\n",
    "current_year = datetime.now().year\n",
    "\n",
    "# Calculate age by subtracting birth year from current year\n",
    "df['year'] = current_year - df['year']"
   ]
  },
  {
   "cell_type": "markdown",
   "metadata": {},
   "source": [
    "### Handle Imbalanced Data\n",
    "Some subcategories have very few instances. I decided to remove them."
   ]
  },
  {
   "cell_type": "code",
   "execution_count": null,
   "metadata": {},
   "outputs": [],
   "source": [
    "# Define a minimum threshold (e.g., categories with < 50 instances)\n",
    "min_count = 50\n",
    "\n",
    "# Filter categories that appear more than the threshold\n",
    "valid_subcategories = df['subCategory'].value_counts()[df['subCategory'].value_counts() >= min_count].index\n",
    "\n",
    "# Keep only valid categories\n",
    "df = df[df['subCategory'].isin(valid_subcategories)]\n",
    "\n",
    "# Print updated category distribution\n",
    "print(df['subCategory'].value_counts())"
   ]
  },
  {
   "cell_type": "markdown",
   "metadata": {},
   "source": [
    "## Splitting Data for Training"
   ]
  },
  {
   "cell_type": "code",
   "execution_count": null,
   "metadata": {},
   "outputs": [],
   "source": [
    "# Define target variable (subCategory) and features (everything else)\n",
    "X = df.drop(columns=['subCategory'])\n",
    "y = df['subCategory']\n",
    "\n",
    "# Split into 80% training and 20% testing\n",
    "X_train, X_test, y_train, y_test = train_test_split(X, y, test_size=0.2, random_state=42, stratify=y)\n",
    "\n",
    "# Check the split\n",
    "print(y_train.value_counts())  # Ensure balanced distribution in training set\n",
    "print(y_test.value_counts())   # Ensure balanced distribution in test set"
   ]
  },
  {
   "cell_type": "markdown",
   "metadata": {},
   "source": [
    "## Model training"
   ]
  },
  {
   "cell_type": "code",
   "execution_count": null,
   "metadata": {},
   "outputs": [],
   "source": [
    "# Create a pipeline for scaling & training\n",
    "model = Pipeline([\n",
    "    ('scaler', StandardScaler()),  # Normalize numerical features\n",
    "    ('classifier', LogisticRegression(max_iter=500))  # Train model\n",
    "])\n",
    "\n",
    "# Train the model\n",
    "model.fit(X_train, y_train)"
   ]
  },
  {
   "cell_type": "markdown",
   "metadata": {},
   "source": [
    "## Evaluation"
   ]
  },
  {
   "cell_type": "code",
   "execution_count": null,
   "metadata": {},
   "outputs": [],
   "source": [
    "# Predict on test set\n",
    "y_pred = model.predict(X_test)\n",
    "\n",
    "# Print evaluation metrics\n",
    "print(\"Accuracy:\", accuracy_score(y_test, y_pred))\n",
    "print(\"Classification Report:\\n\", classification_report(y_test, y_pred))"
   ]
  }
 ],
 "metadata": {
  "kernelspec": {
   "display_name": "base",
   "language": "python",
   "name": "python3"
  },
  "language_info": {
   "codemirror_mode": {
    "name": "ipython",
    "version": 3
   },
   "file_extension": ".py",
   "mimetype": "text/x-python",
   "name": "python",
   "nbconvert_exporter": "python",
   "pygments_lexer": "ipython3",
   "version": "3.8.8"
  }
 },
 "nbformat": 4,
 "nbformat_minor": 2
}
